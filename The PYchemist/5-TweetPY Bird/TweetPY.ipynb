{
 "cells": [
  {
   "cell_type": "markdown",
   "metadata": {},
   "source": [
    "# News Mood on Twitter\n",
    "\n",
    "## Analysis\n",
    "\n",
    "* Although tweet polarity may change as new tweets are continually introduced, based on the current standandings of five news channels(BBC, CBS, CNN, Fox, NYtimes) CBS has the highest aveage polarity score. Meaning their tweets hold the most \"possitive\" connotation. This is due to the fact that some of their individual tweets scored highest polarity scores, while only a handfull fell below the neutral line(compound polarity score of 0).\n",
    "* CNN and NYTimes have on average the most neutral tweets. Where CNN have many tweets both above and below the neural line, averaging out to slighly below zero. Comared to the rest of the news channels, CNN has the most tweets below zero. NY times has alot more neutral tweets with fewer scattered above and below the neutral line.\n",
    "* BCC and Fox both have possitive sentiment poliarity of their tweets, averaging to about half that of CBS, even though Fox holds a few tweets schoring the most negative compound polarity. "
   ]
  },
  {
   "cell_type": "code",
   "execution_count": 1,
   "metadata": {},
   "outputs": [],
   "source": [
    "# Dependencies\n",
    "import tweepy\n",
    "import numpy as np\n",
    "import pandas as pd\n",
    "from datetime import datetime\n",
    "import matplotlib.pyplot as plt\n",
    "import seaborn as sns\n",
    "\n",
    "# Import and Initialize Sentiment Analyzer\n",
    "from vaderSentiment.vaderSentiment import SentimentIntensityAnalyzer\n",
    "analyzer = SentimentIntensityAnalyzer()\n",
    "\n",
    "# Twitter API Keys\n",
    "consumer_key = \"9klQf5Xezx4LUTF8i6keuU1Uj\"\n",
    "consumer_secret = \"zPgfwZX4QyqpAE4QC8InKqnyBe434Wwx7MfPcgVjanriH4Pgdx\"\n",
    "access_token = \"1009240407920783360-2l9tNXyymnHeg9u403p9h0aKLHaI3g\"\n",
    "access_token_secret = \"Qr9Rcjc8YKe8pLzUPx95XSIjbg50EGOQofD3TMFSW5Pxp\"\n",
    "\n",
    "# Setup Tweepy API Authentication\n",
    "auth = tweepy.OAuthHandler(consumer_key, consumer_secret)\n",
    "auth.set_access_token(access_token, access_token_secret)\n",
    "api = tweepy.API(auth, parser=tweepy.parsers.JSONParser())"
   ]
  },
  {
   "cell_type": "code",
   "execution_count": 2,
   "metadata": {},
   "outputs": [],
   "source": [
    "# Target Accounts\n",
    "target_user = [\"@BBC\", \"@CBS\", \"@CNN\", \"@FoxNews\", \"@NYtimes\"]\n",
    "\n",
    "# Innitialize list and Dictionary that will hold data collected from tweepy API calls\n",
    "# Experimenting with dictionaries vs lists\n",
    "datasetCompound = {}\n",
    "datasetSenti = []\n",
    "\n",
    "for target in target_user:\n",
    "\n",
    "    # Variables for holding sentiments\n",
    "    compound_list = []\n",
    "\n",
    "    # 5 Pages 1 to 6, due to fact that each page holds 20 tweets\n",
    "    for x in range(1,6):\n",
    "\n",
    "        # Run search around each tweet. Using api.user_timeline, vs api.search. \n",
    "        # Various ways to get the 100 tweets, api.search was yielding some channels with \n",
    "        # below 100..... api.search(target,count=100)\n",
    "        public_tweets = api.user_timeline(target, page=x)\n",
    "        \n",
    "        # Analyze each tweet and collect information. Experimenting \n",
    "        for tweet in public_tweets:\n",
    "            results = analyzer.polarity_scores(tweet[\"text\"])\n",
    "            \n",
    "            comp = results[\"compound\"]\n",
    "            pos = results[\"pos\"]\n",
    "            neu = results[\"neu\"]\n",
    "            neg = results[\"neg\"]\n",
    "\n",
    "            compound_list.append(comp)\n",
    "    \n",
    "            Dict = {\n",
    "                            \"Channel\": target.split(\"@\")[1],\n",
    "                            \"Text\": tweet[\"text\"],\n",
    "                            \"Date\": tweet[\"created_at\"],\n",
    "                            \"Compound\": (comp),\n",
    "                            \"Positive\": (pos),\n",
    "                            \"Neutral\": (neu),\n",
    "                            \"Negative\": (neg)\n",
    "            }\n",
    "    \n",
    "            datasetSenti.append(Dict)\n",
    "    \n",
    "    compoundDict = {\n",
    "        f\"{target.split('@')[1]}\": (compound_list)\n",
    "        }\n",
    "    \n",
    "#     compoundDict = {\n",
    "#     \"Channel\":target,\n",
    "#     \"Compound Score\": (compound_list)\n",
    "#     }\n",
    "\n",
    "\n",
    "    datasetCompound.update(compoundDict)"
   ]
  },
  {
   "cell_type": "code",
   "execution_count": 9,
   "metadata": {},
   "outputs": [
    {
     "data": {
      "text/html": [
       "<div>\n",
       "<style scoped>\n",
       "    .dataframe tbody tr th:only-of-type {\n",
       "        vertical-align: middle;\n",
       "    }\n",
       "\n",
       "    .dataframe tbody tr th {\n",
       "        vertical-align: top;\n",
       "    }\n",
       "\n",
       "    .dataframe thead th {\n",
       "        text-align: right;\n",
       "    }\n",
       "</style>\n",
       "<table border=\"1\" class=\"dataframe\">\n",
       "  <thead>\n",
       "    <tr style=\"text-align: right;\">\n",
       "      <th></th>\n",
       "      <th>Channel</th>\n",
       "      <th>Text</th>\n",
       "      <th>Date</th>\n",
       "      <th>Compound</th>\n",
       "      <th>Positive</th>\n",
       "      <th>Neutral</th>\n",
       "      <th>Negative</th>\n",
       "    </tr>\n",
       "  </thead>\n",
       "  <tbody>\n",
       "    <tr>\n",
       "      <th>0</th>\n",
       "      <td>BBC</td>\n",
       "      <td>RT @bbcthree: Housemates who never take the bi...</td>\n",
       "      <td>Thu Jun 28 16:13:35 +0000 2018</td>\n",
       "      <td>0.4696</td>\n",
       "      <td>0.139</td>\n",
       "      <td>0.861</td>\n",
       "      <td>0.000</td>\n",
       "    </tr>\n",
       "    <tr>\n",
       "      <th>1</th>\n",
       "      <td>BBC</td>\n",
       "      <td>Half of all people who drown never intended to...</td>\n",
       "      <td>Thu Jun 28 16:00:25 +0000 2018</td>\n",
       "      <td>-0.1280</td>\n",
       "      <td>0.115</td>\n",
       "      <td>0.753</td>\n",
       "      <td>0.133</td>\n",
       "    </tr>\n",
       "    <tr>\n",
       "      <th>2</th>\n",
       "      <td>BBC</td>\n",
       "      <td>RT @BBC6Music: If you could pick just one Eryk...</td>\n",
       "      <td>Thu Jun 28 15:52:28 +0000 2018</td>\n",
       "      <td>0.0000</td>\n",
       "      <td>0.000</td>\n",
       "      <td>1.000</td>\n",
       "      <td>0.000</td>\n",
       "    </tr>\n",
       "    <tr>\n",
       "      <th>3</th>\n",
       "      <td>BBC</td>\n",
       "      <td>RT @BBCR1: TONIGHT Elton John (@eltonofficial)...</td>\n",
       "      <td>Thu Jun 28 15:22:37 +0000 2018</td>\n",
       "      <td>0.4963</td>\n",
       "      <td>0.188</td>\n",
       "      <td>0.761</td>\n",
       "      <td>0.052</td>\n",
       "    </tr>\n",
       "    <tr>\n",
       "      <th>4</th>\n",
       "      <td>BBC</td>\n",
       "      <td>Narcissists might be irritating attention seek...</td>\n",
       "      <td>Thu Jun 28 13:00:23 +0000 2018</td>\n",
       "      <td>0.6369</td>\n",
       "      <td>0.234</td>\n",
       "      <td>0.676</td>\n",
       "      <td>0.090</td>\n",
       "    </tr>\n",
       "  </tbody>\n",
       "</table>\n",
       "</div>"
      ],
      "text/plain": [
       "  Channel                                               Text  \\\n",
       "0     BBC  RT @bbcthree: Housemates who never take the bi...   \n",
       "1     BBC  Half of all people who drown never intended to...   \n",
       "2     BBC  RT @BBC6Music: If you could pick just one Eryk...   \n",
       "3     BBC  RT @BBCR1: TONIGHT Elton John (@eltonofficial)...   \n",
       "4     BBC  Narcissists might be irritating attention seek...   \n",
       "\n",
       "                             Date  Compound  Positive  Neutral  Negative  \n",
       "0  Thu Jun 28 16:13:35 +0000 2018    0.4696     0.139    0.861     0.000  \n",
       "1  Thu Jun 28 16:00:25 +0000 2018   -0.1280     0.115    0.753     0.133  \n",
       "2  Thu Jun 28 15:52:28 +0000 2018    0.0000     0.000    1.000     0.000  \n",
       "3  Thu Jun 28 15:22:37 +0000 2018    0.4963     0.188    0.761     0.052  \n",
       "4  Thu Jun 28 13:00:23 +0000 2018    0.6369     0.234    0.676     0.090  "
      ]
     },
     "execution_count": 9,
     "metadata": {},
     "output_type": "execute_result"
    }
   ],
   "source": [
    "\n",
    "completeDF = pd.DataFrame(datasetSenti)\n",
    "completeDF = completeDF[[\"Channel\", \"Text\", \"Date\", \"Compound\", \"Positive\", \"Neutral\", \"Negative\"]]\n",
    "\n",
    "completeDF.to_csv(\"Outputs/TweetData.csv\")\n",
    "\n",
    "completeDF.head()"
   ]
  },
  {
   "cell_type": "code",
   "execution_count": 10,
   "metadata": {},
   "outputs": [
    {
     "name": "stdout",
     "output_type": "stream",
     "text": [
      "BBC:100\n",
      "CBS:100\n",
      "CNN:100\n",
      "FoxNews:100\n",
      "NYtimes:100\n"
     ]
    },
    {
     "data": {
      "text/html": [
       "<div>\n",
       "<style scoped>\n",
       "    .dataframe tbody tr th:only-of-type {\n",
       "        vertical-align: middle;\n",
       "    }\n",
       "\n",
       "    .dataframe tbody tr th {\n",
       "        vertical-align: top;\n",
       "    }\n",
       "\n",
       "    .dataframe thead th {\n",
       "        text-align: right;\n",
       "    }\n",
       "</style>\n",
       "<table border=\"1\" class=\"dataframe\">\n",
       "  <thead>\n",
       "    <tr style=\"text-align: right;\">\n",
       "      <th></th>\n",
       "      <th>BBC</th>\n",
       "      <th>CBS</th>\n",
       "      <th>CNN</th>\n",
       "      <th>FoxNews</th>\n",
       "      <th>NYtimes</th>\n",
       "    </tr>\n",
       "  </thead>\n",
       "  <tbody>\n",
       "    <tr>\n",
       "      <th>0</th>\n",
       "      <td>0.4696</td>\n",
       "      <td>0.0000</td>\n",
       "      <td>0.0000</td>\n",
       "      <td>-0.3245</td>\n",
       "      <td>0.0000</td>\n",
       "    </tr>\n",
       "    <tr>\n",
       "      <th>1</th>\n",
       "      <td>-0.1280</td>\n",
       "      <td>0.7574</td>\n",
       "      <td>0.1531</td>\n",
       "      <td>0.0000</td>\n",
       "      <td>0.0516</td>\n",
       "    </tr>\n",
       "    <tr>\n",
       "      <th>2</th>\n",
       "      <td>0.0000</td>\n",
       "      <td>0.5574</td>\n",
       "      <td>0.0000</td>\n",
       "      <td>0.0000</td>\n",
       "      <td>0.2263</td>\n",
       "    </tr>\n",
       "    <tr>\n",
       "      <th>3</th>\n",
       "      <td>0.4963</td>\n",
       "      <td>0.1867</td>\n",
       "      <td>0.0000</td>\n",
       "      <td>0.0000</td>\n",
       "      <td>-0.4449</td>\n",
       "    </tr>\n",
       "    <tr>\n",
       "      <th>4</th>\n",
       "      <td>0.6369</td>\n",
       "      <td>0.4199</td>\n",
       "      <td>0.3612</td>\n",
       "      <td>0.3182</td>\n",
       "      <td>-0.6908</td>\n",
       "    </tr>\n",
       "  </tbody>\n",
       "</table>\n",
       "</div>"
      ],
      "text/plain": [
       "      BBC     CBS     CNN  FoxNews  NYtimes\n",
       "0  0.4696  0.0000  0.0000  -0.3245   0.0000\n",
       "1 -0.1280  0.7574  0.1531   0.0000   0.0516\n",
       "2  0.0000  0.5574  0.0000   0.0000   0.2263\n",
       "3  0.4963  0.1867  0.0000   0.0000  -0.4449\n",
       "4  0.6369  0.4199  0.3612   0.3182  -0.6908"
      ]
     },
     "execution_count": 10,
     "metadata": {},
     "output_type": "execute_result"
    }
   ],
   "source": [
    "# Can also use the table above, and do a pd.groupby\n",
    "# Convert sentiments to DataFrame\n",
    "for target in target_user:\n",
    "    print(f\"{target.split('@')[1]}:{len(datasetCompound[target.split('@')[1]])}\")\n",
    "DF = pd.DataFrame(datasetCompound)\n",
    "\n",
    "DF.to_csv(\"Outputs/TweetPolarity.csv\")\n",
    "\n",
    "DF.head()"
   ]
  },
  {
   "cell_type": "code",
   "execution_count": 11,
   "metadata": {},
   "outputs": [
    {
     "data": {
      "image/png": "[encoded data removed]",
      "text/plain": [
       "<matplotlib.figure.Figure at 0x10f4f8f28>"
      ]
     },
     "metadata": {},
     "output_type": "display_data"
    }
   ],
   "source": [
    "# Create plot\n",
    "sns.set_style(\"whitegrid\")\n",
    "\n",
    "Pivot = DF.reset_index().melt(\"index\", var_name='Channel',  value_name='Polarity')\n",
    "sns.lmplot( x=\"index\", y = \"Polarity\", data=Pivot, hue = \"Channel\", fit_reg=False)\n",
    "\n",
    "\n",
    "# # Incorporate the other graph properties\n",
    "now = datetime.now()\n",
    "now = now.strftime(\"%Y-%m-%d %H:%M\")\n",
    "plt.title(f\"Sentiment Analysis of Tweets ({now})\")\n",
    "plt.ylabel(\"Tweet Polarity\")\n",
    "plt.xlabel(\"Tweets Ago\")\n",
    "\n",
    "plt.savefig(\"Outputs/TweetsSentiment.png\")\n",
    "\n",
    "plt.show()"
   ]
  },
  {
   "cell_type": "code",
   "execution_count": 12,
   "metadata": {},
   "outputs": [
    {
     "name": "stdout",
     "output_type": "stream",
     "text": [
      "                0\n",
      "BBC      0.132641\n",
      "CBS      0.355032\n",
      "CNN     -0.012263\n",
      "FoxNews  0.111321\n",
      "NYtimes  0.018852\n"
     ]
    },
    {
     "data": {
      "image/png": "[encoded data removed]",
      "text/plain": [
       "<matplotlib.figure.Figure at 0x10b95def0>"
      ]
     },
     "metadata": {},
     "output_type": "display_data"
    }
   ],
   "source": [
    "DFmean = np.mean(DF)\n",
    "print(pd.DataFrame(DFmean))\n",
    "ax = sns.barplot(x=DFmean.index, y=DFmean)\n",
    "\n",
    "for p in ax.patches:\n",
    "    ax.text(p.get_x() + p.get_width()/2., p.get_height(), str(round(p.get_height(),3)), \n",
    "            fontsize=12, color='black', ha='center', va='bottom')\n",
    "    \n",
    "plt.ylabel(\"Tweet Polarity\")\n",
    "plt.title(f\"Average Polarity of Tweets ({now})\")\n",
    "\n",
    "plt.savefig(\"Outputs/AvgPolarity.png\")\n",
    "\n",
    "plt.show()"
   ]
  },
  {
   "cell_type": "code",
   "execution_count": null,
   "metadata": {},
   "outputs": [],
   "source": []
  },
  {
   "cell_type": "code",
   "execution_count": null,
   "metadata": {},
   "outputs": [],
   "source": []
  }
 ],
 "metadata": {
  "anaconda-cloud": {},
  "kernelspec": {
   "display_name": "Python 3",
   "language": "python",
   "name": "python3"
  },
  "language_info": {
   "codemirror_mode": {
    "name": "ipython",
    "version": 3
   },
   "file_extension": ".py",
   "mimetype": "text/x-python",
   "name": "python",
   "nbconvert_exporter": "python",
   "pygments_lexer": "ipython3",
   "version": "3.6.4"
  },
  "varInspector": {
   "cols": {
    "lenName": 16,
    "lenType": 16,
    "lenVar": 40
   },
   "kernels_config": {
    "python": {
     "delete_cmd_postfix": "",
     "delete_cmd_prefix": "del ",
     "library": "var_list.py",
     "varRefreshCmd": "print(var_dic_list())"
    },
    "r": {
     "delete_cmd_postfix": ") ",
     "delete_cmd_prefix": "rm(",
     "library": "var_list.r",
     "varRefreshCmd": "cat(var_dic_list()) "
    }
   },
   "types_to_exclude": [
    "module",
    "function",
    "builtin_function_or_method",
    "instance",
    "_Feature"
   ],
   "window_display": false
  }
 },
 "nbformat": 4,
 "nbformat_minor": 1
}
